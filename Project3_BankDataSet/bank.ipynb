{
 "cells": [
  {
   "cell_type": "code",
   "execution_count": 217,
   "outputs": [],
   "source": [
    "import numpy as np\n",
    "import pandas as pd\n",
    "import seaborn as sns\n",
    "import matplotlib.pyplot as plt\n",
    "import matplotlib.axes._axes as axes\n",
    "sns.set()"
   ],
   "metadata": {
    "collapsed": false,
    "pycharm": {
     "name": "#%%\n",
     "is_executing": false
    }
   }
  },
  {
   "cell_type": "code",
   "execution_count": 218,
   "outputs": [
    {
     "data": {
      "text/plain": "   age        job  marital    education  default housing loan    contact  \\\n0   56  housemaid  married     basic.4y       no      no   no  telephone   \n1   57   services  married  high.school  unknown      no   no  telephone   \n2   37   services  married  high.school       no     yes   no  telephone   \n3   40     admin.  married     basic.6y       no      no   no  telephone   \n4   56   services  married  high.school       no      no  yes  telephone   \n\n  month day_of_week  ...  campaign  pdays  previous     poutcome emp.var.rate  \\\n0   may         mon  ...         1    999         0  nonexistent          1.1   \n1   may         mon  ...         1    999         0  nonexistent          1.1   \n2   may         mon  ...         1    999         0  nonexistent          1.1   \n3   may         mon  ...         1    999         0  nonexistent          1.1   \n4   may         mon  ...         1    999         0  nonexistent          1.1   \n\n   cons.price.idx  cons.conf.idx  euribor3m  nr.employed   y  \n0          93.994          -36.4      4.857       5191.0  no  \n1          93.994          -36.4      4.857       5191.0  no  \n2          93.994          -36.4      4.857       5191.0  no  \n3          93.994          -36.4      4.857       5191.0  no  \n4          93.994          -36.4      4.857       5191.0  no  \n\n[5 rows x 21 columns]",
      "text/html": "<div>\n<style scoped>\n    .dataframe tbody tr th:only-of-type {\n        vertical-align: middle;\n    }\n\n    .dataframe tbody tr th {\n        vertical-align: top;\n    }\n\n    .dataframe thead th {\n        text-align: right;\n    }\n</style>\n<table border=\"1\" class=\"dataframe\">\n  <thead>\n    <tr style=\"text-align: right;\">\n      <th></th>\n      <th>age</th>\n      <th>job</th>\n      <th>marital</th>\n      <th>education</th>\n      <th>default</th>\n      <th>housing</th>\n      <th>loan</th>\n      <th>contact</th>\n      <th>month</th>\n      <th>day_of_week</th>\n      <th>...</th>\n      <th>campaign</th>\n      <th>pdays</th>\n      <th>previous</th>\n      <th>poutcome</th>\n      <th>emp.var.rate</th>\n      <th>cons.price.idx</th>\n      <th>cons.conf.idx</th>\n      <th>euribor3m</th>\n      <th>nr.employed</th>\n      <th>y</th>\n    </tr>\n  </thead>\n  <tbody>\n    <tr>\n      <th>0</th>\n      <td>56</td>\n      <td>housemaid</td>\n      <td>married</td>\n      <td>basic.4y</td>\n      <td>no</td>\n      <td>no</td>\n      <td>no</td>\n      <td>telephone</td>\n      <td>may</td>\n      <td>mon</td>\n      <td>...</td>\n      <td>1</td>\n      <td>999</td>\n      <td>0</td>\n      <td>nonexistent</td>\n      <td>1.1</td>\n      <td>93.994</td>\n      <td>-36.4</td>\n      <td>4.857</td>\n      <td>5191.0</td>\n      <td>no</td>\n    </tr>\n    <tr>\n      <th>1</th>\n      <td>57</td>\n      <td>services</td>\n      <td>married</td>\n      <td>high.school</td>\n      <td>unknown</td>\n      <td>no</td>\n      <td>no</td>\n      <td>telephone</td>\n      <td>may</td>\n      <td>mon</td>\n      <td>...</td>\n      <td>1</td>\n      <td>999</td>\n      <td>0</td>\n      <td>nonexistent</td>\n      <td>1.1</td>\n      <td>93.994</td>\n      <td>-36.4</td>\n      <td>4.857</td>\n      <td>5191.0</td>\n      <td>no</td>\n    </tr>\n    <tr>\n      <th>2</th>\n      <td>37</td>\n      <td>services</td>\n      <td>married</td>\n      <td>high.school</td>\n      <td>no</td>\n      <td>yes</td>\n      <td>no</td>\n      <td>telephone</td>\n      <td>may</td>\n      <td>mon</td>\n      <td>...</td>\n      <td>1</td>\n      <td>999</td>\n      <td>0</td>\n      <td>nonexistent</td>\n      <td>1.1</td>\n      <td>93.994</td>\n      <td>-36.4</td>\n      <td>4.857</td>\n      <td>5191.0</td>\n      <td>no</td>\n    </tr>\n    <tr>\n      <th>3</th>\n      <td>40</td>\n      <td>admin.</td>\n      <td>married</td>\n      <td>basic.6y</td>\n      <td>no</td>\n      <td>no</td>\n      <td>no</td>\n      <td>telephone</td>\n      <td>may</td>\n      <td>mon</td>\n      <td>...</td>\n      <td>1</td>\n      <td>999</td>\n      <td>0</td>\n      <td>nonexistent</td>\n      <td>1.1</td>\n      <td>93.994</td>\n      <td>-36.4</td>\n      <td>4.857</td>\n      <td>5191.0</td>\n      <td>no</td>\n    </tr>\n    <tr>\n      <th>4</th>\n      <td>56</td>\n      <td>services</td>\n      <td>married</td>\n      <td>high.school</td>\n      <td>no</td>\n      <td>no</td>\n      <td>yes</td>\n      <td>telephone</td>\n      <td>may</td>\n      <td>mon</td>\n      <td>...</td>\n      <td>1</td>\n      <td>999</td>\n      <td>0</td>\n      <td>nonexistent</td>\n      <td>1.1</td>\n      <td>93.994</td>\n      <td>-36.4</td>\n      <td>4.857</td>\n      <td>5191.0</td>\n      <td>no</td>\n    </tr>\n  </tbody>\n</table>\n<p>5 rows × 21 columns</p>\n</div>"
     },
     "metadata": {},
     "output_type": "execute_result",
     "execution_count": 218
    }
   ],
   "source": [
    "df = pd.read_csv('bank-additional-full.csv', sep=';')\n",
    "df.head()"
   ],
   "metadata": {
    "collapsed": false,
    "pycharm": {
     "name": "#%%\n",
     "is_executing": false
    }
   }
  },
  {
   "cell_type": "code",
   "execution_count": 219,
   "outputs": [
    {
     "name": "stdout",
     "text": [
      "<class 'pandas.core.frame.DataFrame'>\nRangeIndex: 41188 entries, 0 to 41187\nData columns (total 21 columns):\nage               41188 non-null int64\njob               41188 non-null object\nmarital           41188 non-null object\neducation         41188 non-null object\ndefault           41188 non-null object\nhousing           41188 non-null object\nloan              41188 non-null object\ncontact           41188 non-null object\nmonth             41188 non-null object\nday_of_week       41188 non-null object\nduration          41188 non-null int64\ncampaign          41188 non-null int64\npdays             41188 non-null int64\nprevious          41188 non-null int64\npoutcome          41188 non-null object\nemp.var.rate      41188 non-null float64\ncons.price.idx    41188 non-null float64\ncons.conf.idx     41188 non-null float64\neuribor3m         41188 non-null float64\nnr.employed       41188 non-null float64\ny                 41188 non-null object\ndtypes: float64(5), int64(5), object(11)\nmemory usage: 6.6+ MB\n"
     ],
     "output_type": "stream"
    }
   ],
   "source": [
    "df.info()"
   ],
   "metadata": {
    "collapsed": false,
    "pycharm": {
     "name": "#%%\n",
     "is_executing": false
    }
   }
  },
  {
   "cell_type": "code",
   "execution_count": 220,
   "outputs": [
    {
     "name": "stdout",
     "text": [
      "31    1947\n32    1846\n33    1833\n36    1780\n35    1759\n34    1745\n30    1714\n37    1475\n29    1453\n39    1432\n38    1407\n41    1278\n40    1161\n42    1142\n45    1103\n43    1055\n46    1030\n44    1011\n28    1001\n48     979\n47     928\n50     875\n27     851\n49     839\n52     779\n51     754\n53     733\n56     704\n26     698\n54     684\n      ... \n65      44\n19      42\n76      34\n69      34\n72      34\n73      34\n68      33\n74      32\n80      31\n18      28\n78      27\n67      26\n75      24\n88      22\n77      20\n81      20\n82      17\n83      17\n85      15\n79      14\n86       8\n84       7\n17       5\n92       4\n98       2\n89       2\n91       2\n87       1\n94       1\n95       1\nName: age, Length: 78, dtype: int64\n========================================\nadmin.           10422\nblue-collar       9254\ntechnician        6743\nservices          3969\nmanagement        2924\nretired           1720\nentrepreneur      1456\nself-employed     1421\nhousemaid         1060\nunemployed        1014\nstudent            875\nunknown            330\nName: job, dtype: int64\n========================================\nmarried     24928\nsingle      11568\ndivorced     4612\nunknown        80\nName: marital, dtype: int64\n========================================\nuniversity.degree      12168\nhigh.school             9515\nbasic.9y                6045\nprofessional.course     5243\nbasic.4y                4176\nbasic.6y                2292\nunknown                 1731\nilliterate                18\nName: education, dtype: int64\n========================================\nno         32588\nunknown     8597\nyes            3\nName: default, dtype: int64\n========================================\nyes        21576\nno         18622\nunknown      990\nName: housing, dtype: int64\n========================================\nno         33950\nyes         6248\nunknown      990\nName: loan, dtype: int64\n========================================\ncellular     26144\ntelephone    15044\nName: contact, dtype: int64\n========================================\nmay    13769\njul     7174\naug     6178\njun     5318\nnov     4101\napr     2632\noct      718\nsep      570\nmar      546\ndec      182\nName: month, dtype: int64\n========================================\nthu    8623\nmon    8514\nwed    8134\ntue    8090\nfri    7827\nName: day_of_week, dtype: int64\n========================================\n85      170\n90      170\n136     168\n73      167\n124     164\n87      162\n72      161\n104     161\n111     160\n106     159\n109     158\n97      158\n122     157\n135     156\n92      156\n114     156\n139     155\n96      155\n119     155\n82      154\n89      153\n76      153\n71      152\n126     152\n125     152\n93      151\n107     150\n88      150\n83      149\n123     149\n       ... \n2184      1\n1395      1\n1555      1\n1556      1\n1447      1\n1492      1\n3509      1\n1460      1\n1364      1\n1300      1\n3078      1\n1095      1\n1191      1\n1255      1\n1287      1\n3366      1\n1479      1\n2035      1\n1575      1\n1767      1\n1236      1\n3253      1\n2089      1\n1204      1\n1140      1\n1108      1\n980       1\n4918      1\n2453      1\n2015      1\nName: duration, Length: 1544, dtype: int64\n========================================\n1     17642\n2     10570\n3      5341\n4      2651\n5      1599\n6       979\n7       629\n8       400\n9       283\n10      225\n11      177\n12      125\n13       92\n14       69\n17       58\n15       51\n16       51\n18       33\n20       30\n19       26\n21       24\n22       17\n23       16\n24       15\n27       11\n29       10\n25        8\n26        8\n28        8\n30        7\n31        7\n35        5\n33        4\n32        4\n34        3\n40        2\n42        2\n43        2\n37        1\n39        1\n41        1\n56        1\nName: campaign, dtype: int64\n========================================\n999    39673\n3        439\n6        412\n4        118\n9         64\n2         61\n7         60\n12        58\n10        52\n5         46\n13        36\n11        28\n1         26\n15        24\n14        20\n8         18\n0         15\n16        11\n17         8\n18         7\n19         3\n22         3\n21         2\n26         1\n20         1\n25         1\n27         1\nName: pdays, dtype: int64\n========================================\n0    35563\n1     4561\n2      754\n3      216\n4       70\n5       18\n6        5\n7        1\nName: previous, dtype: int64\n========================================\n",
      "nonexistent    35563\nfailure         4252\nsuccess         1373\nName: poutcome, dtype: int64\n========================================\n 1.4    16234\n-1.8     9184\n 1.1     7763\n-0.1     3683\n-2.9     1663\n-3.4     1071\n-1.7      773\n-1.1      635\n-3.0      172\n-0.2       10\nName: emp.var.rate, dtype: int64\n========================================\n93.994    7763\n93.918    6685\n92.893    5794\n93.444    5175\n94.465    4374\n93.200    3616\n93.075    2458\n92.201     770\n92.963     715\n92.431     447\n92.649     357\n94.215     311\n94.199     303\n92.843     282\n92.379     267\n93.369     264\n94.027     233\n94.055     229\n93.876     212\n94.601     204\n92.469     178\n93.749     174\n92.713     172\n94.767     128\n93.798      67\n92.756      10\nName: cons.price.idx, dtype: int64\n========================================\n-36.4    7763\n-42.7    6685\n-46.2    5794\n-36.1    5175\n-41.8    4374\n-42.0    3616\n-47.1    2458\n-31.4     770\n-40.8     715\n-26.9     447\n-30.1     357\n-40.3     311\n-37.5     303\n-50.0     282\n-29.8     267\n-34.8     264\n-38.3     233\n-39.8     229\n-40.0     212\n-49.5     204\n-33.6     178\n-34.6     174\n-33.0     172\n-50.8     128\n-40.4      67\n-45.9      10\nName: cons.conf.idx, dtype: int64\n========================================\n",
      "4.857    2868\n4.962    2613\n4.963    2487\n4.961    1902\n4.856    1210\n4.964    1175\n1.405    1169\n4.965    1071\n4.864    1044\n4.960    1013\n4.968     992\n4.959     895\n4.860     892\n4.855     840\n4.076     822\n1.266     820\n4.859     788\n4.120     756\n4.858     733\n4.153     690\n4.021     676\n4.967     643\n1.281     637\n4.966     622\n4.191     610\n1.250     587\n4.958     581\n1.291     544\n1.327     538\n4.957     537\n         ... \n0.914       3\n4.474       3\n1.018       3\n1.007       3\n1.778       3\n0.927       2\n4.733       2\n3.879       2\n0.749       2\n0.953       2\n0.937       2\n0.921       2\n3.563       2\n0.969       1\n3.329       1\n1.047       1\n3.743       1\n3.428       1\n3.901       1\n1.574       1\n3.488       1\n3.853       1\n3.669       1\n3.053       1\n3.816       1\n1.045       1\n0.956       1\n0.933       1\n3.282       1\n0.996       1\nName: euribor3m, Length: 316, dtype: int64\n========================================\n5228.1    16234\n5099.1     8534\n5191.0     7763\n5195.8     3683\n5076.2     1663\n5017.5     1071\n4991.6      773\n5008.7      650\n4963.6      635\n5023.5      172\n5176.3       10\nName: nr.employed, dtype: int64\n========================================\nno     36548\nyes     4640\nName: y, dtype: int64\n========================================\n"
     ],
     "output_type": "stream"
    }
   ],
   "source": [
    "for col in df.columns:\n",
    "    print(df[col].value_counts())\n",
    "    print(\"=\" * 40)\n"
   ],
   "metadata": {
    "collapsed": false,
    "pycharm": {
     "name": "#%%\n",
     "is_executing": false
    }
   }
  },
  {
   "cell_type": "code",
   "execution_count": null,
   "outputs": [],
   "source": [
    "\n"
   ],
   "metadata": {
    "collapsed": false,
    "pycharm": {
     "name": "#%%\n"
    }
   }
  }
 ],
 "metadata": {
  "language_info": {
   "codemirror_mode": {
    "name": "ipython",
    "version": 2
   },
   "file_extension": ".py",
   "mimetype": "text/x-python",
   "name": "python",
   "nbconvert_exporter": "python",
   "pygments_lexer": "ipython2",
   "version": "2.7.6"
  },
  "kernelspec": {
   "name": "python3",
   "language": "python",
   "display_name": "Python 3"
  },
  "pycharm": {
   "stem_cell": {
    "cell_type": "raw",
    "source": [],
    "metadata": {
     "collapsed": false
    }
   }
  }
 },
 "nbformat": 4,
 "nbformat_minor": 0
}